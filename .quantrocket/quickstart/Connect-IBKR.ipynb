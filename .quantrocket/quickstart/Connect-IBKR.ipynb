{
 "cells": [
  {
   "cell_type": "markdown",
   "metadata": {},
   "source": [
    "<img alt=\"QuantRocket logo\" src=\"https://www.quantrocket.com/assets/img/notebook-header-logo.png\">"
   ]
  },
  {
   "cell_type": "markdown",
   "metadata": {},
   "source": [
    "# Connect to Interactive Brokers\n",
    "\n",
    "All QuantRocket's communication with Interactive Brokers (IBKR) is routed through IB Gateway, a Java application which is a slimmed-down version of Trader Workstation (TWS) intended for API use. IB Gateway runs inside the `ibg1` container and connects to Interactive Brokers using your IBKR username and password. The `ibgrouter` container provides an API that allows you to start and stop IB Gateway inside the `ibg` container(s)."
   ]
  },
  {
   "cell_type": "markdown",
   "metadata": {},
   "source": [
    "## Login to your IBKR paper account\n",
    "\n",
    "You can connect QuantRocket to your live or paper IBKR account (and switch back and forth). Until you're ready to start live trading, connecting your paper account is sufficient and is simpler since logging in to paper accounts doesn't require a security card as it does for some live accounts (if enabled). (If you haven't set up a paper account yet, see the Learn More section below.)  \n",
    "\n",
    "To connect to IBKR, enter your username and execute the function below (you'll be prompted for your password):\n",
    "\n",
    "> Your credentials are encrypted at rest and never leave your deployment."
   ]
  },
  {
   "cell_type": "code",
   "execution_count": 1,
   "metadata": {},
   "outputs": [
    {
     "data": {
      "text/plain": [
       "{'status': 'successfully set ibg1 credentials'}"
      ]
     },
     "execution_count": 1,
     "metadata": {},
     "output_type": "execute_result"
    }
   ],
   "source": [
    "from quantrocket.ibg import set_credentials\n",
    "\n",
    "set_credentials(\"ibg1\", username=\"XXXXXXX\", trading_mode=\"paper\")"
   ]
  },
  {
   "cell_type": "markdown",
   "metadata": {},
   "source": [
    "When setting your credentials, QuantRocket performs several steps. It stores your credentials inside your deployment so you don't need to enter them again. It then starts and stops IB Gateway, which causes IB Gateway to download a settings file which QuantRocket then configures appropriately. The entire process takes approximately 30 seconds to complete."
   ]
  },
  {
   "cell_type": "markdown",
   "metadata": {},
   "source": [
    "## Test IBKR Connection\n",
    "\n",
    "Now that your credentials are set, test the connection by starting IB Gateway and querying your IBKR paper account balance. There's a bit less typing if we use the CLI, so open a terminal and start IB Gateway:\n",
    "\n",
    "```shell\n",
    "quantrocket ibg start --wait \n",
    "```\n",
    "\n",
    "Then, query the account balance (this command returns a CSV, which can be formatted for the terminal with the `csvlook` utility):\n",
    "\n",
    "```shell\n",
    "quantrocket account balance --fields 'NetLiquidation' --latest --force-refresh | csvlook\n",
    "```\n",
    "\n",
    "Which will return something like this:\n",
    "\n",
    "```\n",
    "| Account   | Currency | NetLiquidation |         LastUpdated |\n",
    "| --------- | -------- | -------------- | ------------------- |\n",
    "| DU12345   | USD      |     500,000.00 | 2020-06-02 22:57:13 |\n",
    "```\n"
   ]
  },
  {
   "cell_type": "markdown",
   "metadata": {},
   "source": [
    "## Learn More\n",
    "\n",
    "You can learn more about [IBKR account structures](http://qrok.it/h/ibact) and [connecting to IB Gateway](http://qrok.it/h/ibg) in the usage guide. Some of the topics covered include:\n",
    "\n",
    "* Paper trading account setup\n",
    "* Subscribing to market data\n",
    "* Sharing market data with your paper account\n",
    "* Logging in with a security card\n",
    "* Running multiple IB Gateways"
   ]
  },
  {
   "cell_type": "markdown",
   "metadata": {},
   "source": [
    "***\n",
    "\n",
    "[Back to QuickStart](QuickStart.ipynb)"
   ]
  }
 ],
 "metadata": {
  "kernelspec": {
   "display_name": "Python 3",
   "language": "python",
   "name": "python3"
  },
  "language_info": {
   "codemirror_mode": {
    "name": "ipython",
    "version": 3
   },
   "file_extension": ".py",
   "mimetype": "text/x-python",
   "name": "python",
   "nbconvert_exporter": "python",
   "pygments_lexer": "ipython3",
   "version": "3.7.6"
  }
 },
 "nbformat": 4,
 "nbformat_minor": 4
}
