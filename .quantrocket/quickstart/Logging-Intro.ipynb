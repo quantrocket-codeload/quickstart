{
 "cells": [
  {
   "cell_type": "markdown",
   "metadata": {},
   "source": [
    "<a href=\"https://www.quantrocket.com\"><img alt=\"QuantRocket logo\" src=\"https://www.quantrocket.com/assets/img/notebook-header-logo.png\"></a>"
   ]
  },
  {
   "cell_type": "markdown",
   "metadata": {},
   "source": [
    "# Logging First Steps\n",
    "\n",
    "*Learn how logging works in QuantRocket*"
   ]
  },
  {
   "cell_type": "markdown",
   "metadata": {},
   "source": [
    "Many QuantRocket tasks run in the background and emit log messages to keep you informed about what they're doing. Log messages are handled by the `flightlog` service. The `flightlog` service provides two levels of logging: higher-level summary log messages and lower-level, detailed logs.\n",
    "\n",
    "You can use JupyterLab terminals to monitor the log messages. Because the logs are an important source of feedback, it's a good idea to open two terminals each time you use QuantRocket, one for the standard logs and one for the detailed logs. There is a Flightlog button on the Launcher menu to make this easier. The button simply opens two terminals and automatically types the command to stream the logs (`quantrocket flightlog stream` and `quantrocket flightlog stream --detail`, respectively). You can then drag the terminals to a convenient place in your JupyterLab work area.\n",
    "\n",
    "<img src=\"https://www.quantrocket.com/assets/img/quickstart/jupyter-flightlog.gif\">\n"
   ]
  },
  {
   "cell_type": "markdown",
   "metadata": {},
   "source": [
    "The terminal will wait for log messages and display them as they arrive. Since nothing much is happening yet, you can emit your own log message for testing. Back in Terminal 1, type:\n",
    "\n",
    "```shell\n",
    "quantrocket flightlog log 'this is a test'\n",
    "```\n",
    "\n",
    "In Terminal 2, you'll see the test message appear:\n",
    "\n",
    "```\n",
    "quantrocket.cli: INFO this is a test\n",
    "```\n",
    "\n",
    "Log messages have different severity levels. This time, in Terminal 1, log a warning:\n",
    "\n",
    "```shell\n",
    "quantrocket flightlog log 'this is a warning' --level 'WARNING'\n",
    "```\n",
    "\n",
    "In Terminal 2, you'll see the warning message:\n",
    "\n",
    "```\n",
    "quantrocket.cli: WARNING this is a warning\n",
    "```\n",
    "\n",
    "Meanwhile, detailed messages may have already begun to appear in Terminal 3. For demonstration purposes, we can trigger a detailed message by pinging `houston`, QuantRocket's API gateway. In Terminal 1, type:\n",
    "\n",
    "```shell\n",
    "quantrocket houston ping\n",
    "```\n",
    "\n",
    "No new log messages will appear in Terminal 2 (high-level logs) because the `ping` command doesn't emit any log messages, but in Terminal 3 (detailed logs) you'll see a line of output logging the `ping` HTTP request (possibly mixed in with lots of other log output):\n",
    "\n",
    "```\n",
    "quantrocket-houston-1|172.18.0.12 - - [06/Mar/2024:20:40:47 +0000] \"GET /ping HTTP/1.1\" 200 30 \"-\" \"python-urllib3/1.26.18\"\n",
    "```\n",
    "\n",
    "Monitoring both the standard logs and detailed logs is a great way to learn more about how QuantRocket works and what it's doing."
   ]
  },
  {
   "cell_type": "markdown",
   "metadata": {},
   "source": [
    "***\n",
    "\n",
    "## *Next Up*\n",
    "\n",
    "[Clone sample code](Clone-Intro.ipynb) - Get some code into your deployment"
   ]
  }
 ],
 "metadata": {
  "kernelspec": {
   "display_name": "Python 3.11",
   "language": "python",
   "name": "python3"
  },
  "language_info": {
   "codemirror_mode": {
    "name": "ipython",
    "version": 3
   },
   "file_extension": ".py",
   "mimetype": "text/x-python",
   "name": "python",
   "nbconvert_exporter": "python",
   "pygments_lexer": "ipython3",
   "version": "3.11.0"
  }
 },
 "nbformat": 4,
 "nbformat_minor": 4
}
