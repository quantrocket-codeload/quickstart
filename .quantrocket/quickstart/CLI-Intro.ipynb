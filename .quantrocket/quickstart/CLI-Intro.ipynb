{
 "cells": [
  {
   "cell_type": "markdown",
   "metadata": {},
   "source": [
    "<img alt=\"QuantRocket logo\" src=\"https://www.quantrocket.com/assets/img/notebook-header-logo.png\">"
   ]
  },
  {
   "cell_type": "markdown",
   "metadata": {},
   "source": [
    "# CLI First Steps\n",
    "\n",
    "*Get to know the command line interface*"
   ]
  },
  {
   "cell_type": "markdown",
   "metadata": {},
   "source": [
    "To access the command line interface, open a Terminal from the JupyterLab Launcher (or from File > New > Terminal).\n",
    "\n",
    "<img src=\"https://www.quantrocket.com/assets/img/quickstart/jupyter-terminal.gif\">\n",
    "\n",
    "> Tip: You can drag the terminal window to dock it beside or below this notebook so that you can view both. \n",
    "\n",
    "You can find your way through the command line interface (CLI) by making use of the `-h/--help` option with any command or subcommand. Try typing the following commands:\n",
    "\n",
    "```\n",
    "quantrocket -h\n",
    "quantrocket master -h\n",
    "quantrocket master exchanges -h\n",
    "```\n",
    "\n",
    "Now run a command. You can run the command which corresponds to the Python function you ran  a moment ago:\n",
    "\n",
    "```shell\n",
    "quantrocket master exchanges\n",
    "```\n",
    "\n",
    "Try it again with some options:\n",
    "\n",
    "```shell\n",
    "quantrocket master exchanges --regions 'north_america' --sec-types 'STK'\n",
    "```\n",
    "\n",
    "*(Placing quotes around options as shown above ('north_america') is only required if the values contain spaces or special characters. However, quotes are used in the documentation to improve readability even when they aren't required.)*\n"
   ]
  },
  {
   "cell_type": "markdown",
   "metadata": {},
   "source": [
    "## Using the Terminal directly from Notebooks\n",
    "\n",
    "The best way to use the CLI is to open a Terminal, but you can also execute terminal commands directly from within notebooks by prefixing the line with an exclamation point (`!`). You'll see this syntax used sometimes in QuantRocket demo notebooks where the CLI seems more natural than the Python API.\n",
    "\n",
    "Execute the following cell to see this in action:"
   ]
  },
  {
   "cell_type": "code",
   "execution_count": 1,
   "metadata": {},
   "outputs": [
    {
     "name": "stdout",
     "output_type": "stream",
     "text": [
      "STK:\n",
      "  Canada:\n",
      "  - ALPHA\n",
      "  - PURE\n",
      "  - CHIX_CA\n",
      "  - OMEGA\n",
      "  - TSE\n",
      "  - VENTURE\n",
      "  Mexico:\n",
      "  - MEXI\n",
      "  United States:\n",
      "  - ARCAEDGE\n",
      "  - BYX\n",
      "  - BATS\n",
      "  - CHX\n",
      "  - DRCTEDGE\n",
      "  - EDGEA\n",
      "  - VWAP\n",
      "  - IEX\n",
      "  - NITE\n",
      "  - NASDAQ\n",
      "  - BEX\n",
      "  - PSX\n",
      "  - ISLAND\n",
      "  - NYSE\n",
      "  - AMEX\n",
      "  - ARCA\n",
      "  - NYSENAT\n",
      "  - PINK\n"
     ]
    }
   ],
   "source": [
    "!quantrocket master exchanges --regions 'north_america' --sec-types 'STK'"
   ]
  },
  {
   "cell_type": "markdown",
   "metadata": {},
   "source": [
    "***\n",
    "\n",
    "## *Next Up*\n",
    "\n",
    "[Logging first steps](Logging-Intro.ipynb) - Learn how logging works in QuantRocket"
   ]
  }
 ],
 "metadata": {
  "kernelspec": {
   "display_name": "Python 3",
   "language": "python",
   "name": "python3"
  },
  "language_info": {
   "codemirror_mode": {
    "name": "ipython",
    "version": 3
   },
   "file_extension": ".py",
   "mimetype": "text/x-python",
   "name": "python",
   "nbconvert_exporter": "python",
   "pygments_lexer": "ipython3",
   "version": "3.6.6"
  }
 },
 "nbformat": 4,
 "nbformat_minor": 4
}
