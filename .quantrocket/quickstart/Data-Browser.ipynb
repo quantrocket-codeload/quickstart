{
 "cells": [
  {
   "cell_type": "markdown",
   "metadata": {},
   "source": [
    "<a href=\"https://www.quantrocket.com\"><img alt=\"QuantRocket logo\" src=\"https://www.quantrocket.com/assets/img/notebook-header-logo.png\"></a>"
   ]
  },
  {
   "cell_type": "markdown",
   "metadata": {},
   "source": [
    "# Data Browser\n",
    "*Browse the securities master database, price and fundamental data, and Pipeline output in a graphical UI that's deeply integrated with QuantRocket's APIs*"
   ]
  },
  {
   "cell_type": "markdown",
   "metadata": {},
   "source": [
    "Most of what you do in QuantRocket involves writing Python code to research and trade quantitative strategies. The Data Browser is a supplementary tool that lets you browse data in a graphical interface without writing code. With the Data Browser, you can:\n",
    "\n",
    "* Look up a financial instrument's exchange, contract specifications, or Sid (security ID) without querying the API.\n",
    "* View price charts for any of the securities in any of your historical price databases (including custom databases).\n",
    "* View time series plots of fundamental metrics (EPS, P/B ratio, etc) from Sharadar for US stocks.\n",
    "* Open DataFrames of securities or CSV files of securities returned by other QuantRocket APIs and explore the securities graphically. For example, open a CSV file of orders from a Moonshot or Zipline trading strategy to see what stocks will be traded. \n",
    "* View the securities that pass a Pipeline screen. Pipeline is an API for analyzing and programatically filtering large groups of securities, and the Data Browser makes it easy to see what kinds of securities your Pipeline rules are selecting.\n",
    "\n",
    "The Data Browser fits into many different workflows and, like all of QuantRocket, is highly flexible in the ways it can be used. Two introductory videos are shown below. Additional video demos are available within the Data Browser. "
   ]
  },
  {
   "cell_type": "code",
   "execution_count": 1,
   "metadata": {},
   "outputs": [
    {
     "data": {
      "text/html": [
       "\n",
       "        <iframe\n",
       "            width=\"700\"\n",
       "            height=\"394\"\n",
       "            src=\"https://player.vimeo.com/video/920572209\"\n",
       "            frameborder=\"0\"\n",
       "            allowfullscreen\n",
       "            \n",
       "        ></iframe>\n",
       "        "
      ],
      "text/plain": [
       "<IPython.lib.display.VimeoVideo at 0xffff4e1e2250>"
      ]
     },
     "execution_count": 1,
     "metadata": {},
     "output_type": "execute_result"
    }
   ],
   "source": [
    "from IPython.display import VimeoVideo\n",
    "VimeoVideo('920572209', width=700, height=394)"
   ]
  },
  {
   "cell_type": "code",
   "execution_count": 2,
   "metadata": {},
   "outputs": [
    {
     "data": {
      "text/html": [
       "\n",
       "        <iframe\n",
       "            width=\"700\"\n",
       "            height=\"394\"\n",
       "            src=\"https://player.vimeo.com/video/920551681\"\n",
       "            frameborder=\"0\"\n",
       "            allowfullscreen\n",
       "            \n",
       "        ></iframe>\n",
       "        "
      ],
      "text/plain": [
       "<IPython.lib.display.VimeoVideo at 0xffff4dffb710>"
      ]
     },
     "execution_count": 2,
     "metadata": {},
     "output_type": "execute_result"
    }
   ],
   "source": [
    "VimeoVideo('920551681', width=700, height=394)"
   ]
  },
  {
   "cell_type": "markdown",
   "metadata": {},
   "source": [
    "You can launch the Data Browser from the JupyterLab launcher menu, or from a notebook by typing the IPython magic command `%browse`. (Note that the Data Browser will be empty until you collect some data!) "
   ]
  },
  {
   "cell_type": "code",
   "execution_count": 3,
   "metadata": {},
   "outputs": [],
   "source": [
    "%browse"
   ]
  },
  {
   "cell_type": "markdown",
   "metadata": {},
   "source": [
    "***\n",
    "\n",
    "[Back to QuickStart](QuickStart.ipynb)"
   ]
  }
 ],
 "metadata": {
  "kernelspec": {
   "display_name": "Python 3.11",
   "language": "python",
   "name": "python3"
  },
  "language_info": {
   "codemirror_mode": {
    "name": "ipython",
    "version": 3
   },
   "file_extension": ".py",
   "mimetype": "text/x-python",
   "name": "python",
   "nbconvert_exporter": "python",
   "pygments_lexer": "ipython3",
   "version": "3.11.0"
  }
 },
 "nbformat": 4,
 "nbformat_minor": 4
}
