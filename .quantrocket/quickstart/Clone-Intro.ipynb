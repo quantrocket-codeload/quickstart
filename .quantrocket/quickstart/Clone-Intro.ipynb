{
 "cells": [
  {
   "cell_type": "markdown",
   "metadata": {},
   "source": [
    "<a href=\"https://www.quantrocket.com\"><img alt=\"QuantRocket logo\" src=\"https://www.quantrocket.com/assets/img/notebook-header-logo.png\"></a>"
   ]
  },
  {
   "cell_type": "markdown",
   "metadata": {},
   "source": [
    "# Clone Sample Code\n",
    "\n",
    "*Get some code into your deployment*"
   ]
  },
  {
   "cell_type": "markdown",
   "metadata": {},
   "source": [
    "QuantRocket provides access to a library of sample code, notebooks, and tutorials hosted on GitHub that you can clone into your deployment. As a basic demonstration, we'll clone the hello-jupyter package, which provides a single, simple demo notebook. Here we use the CLI for cloning as the CLI's YAML output is easier to read than the Python API's JSON/dict output."
   ]
  },
  {
   "cell_type": "code",
   "execution_count": 1,
   "metadata": {},
   "outputs": [
    {
     "name": "stdout",
     "output_type": "stream",
     "text": [
      "files:\n",
      "  added:\n",
      "  - Hello-Jupyter.ipynb\n",
      "status: successfully cloned hello-jupyter\n"
     ]
    }
   ],
   "source": [
    "!quantrocket codeload clone 'hello-jupyter'"
   ]
  },
  {
   "cell_type": "markdown",
   "metadata": {},
   "source": [
    "The command output shows what files were downloaded. Feel free to open the downloaded notebook and have a look."
   ]
  },
  {
   "cell_type": "markdown",
   "metadata": {},
   "source": [
    "You can also clone your own repositories or other non-QuantRocket repositories, see the command's `--help` for examples."
   ]
  },
  {
   "cell_type": "markdown",
   "metadata": {},
   "source": [
    "***\n",
    "\n",
    "## *Next Up*\n",
    "\n",
    "[Code Editor](Code-Editor.ipynb) - Intro to the Eclipse Theia Code Editor"
   ]
  }
 ],
 "metadata": {
  "kernelspec": {
   "display_name": "Python 3",
   "language": "python",
   "name": "python3"
  },
  "language_info": {
   "codemirror_mode": {
    "name": "ipython",
    "version": 3
   },
   "file_extension": ".py",
   "mimetype": "text/x-python",
   "name": "python",
   "nbconvert_exporter": "python",
   "pygments_lexer": "ipython3",
   "version": "3.7.6"
  }
 },
 "nbformat": 4,
 "nbformat_minor": 4
}
