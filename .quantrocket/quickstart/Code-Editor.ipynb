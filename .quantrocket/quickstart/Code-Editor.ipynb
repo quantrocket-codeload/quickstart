{
 "cells": [
  {
   "cell_type": "markdown",
   "metadata": {},
   "source": [
    "<a href=\"https://www.quantrocket.com\"><img alt=\"QuantRocket logo\" src=\"https://www.quantrocket.com/assets/img/notebook-header-logo.png\"></a>"
   ]
  },
  {
   "cell_type": "markdown",
   "metadata": {},
   "source": [
    "# Code Editor\n",
    "*Intelligent code editing with Eclipse Theia*"
   ]
  },
  {
   "cell_type": "markdown",
   "metadata": {},
   "source": [
    "JupyterLab is an excellent platform for doing interactive research in notebooks or terminals, but it is not ideal for writing Python code outside of a notebook because it only provides a basic text editor that lacks code completion and error checking. For a better user experience when writing Python scripts and strategy files, you can switch over to the Eclipse Theia Code Editor. These are complementary tools that provide different windows on the same filesystem - just like using two different editors on your desktop."
   ]
  },
  {
   "cell_type": "markdown",
   "metadata": {},
   "source": [
    "To try out Theia, first create a sample Python file by clicking the Moonshot button on Launcher. This creates a new file called `moonshot_strategy.py` with example code for Moonshot (one of QuantRocket's backtesting engines) and opens the file in JupyterLab's basic text editor, which provides syntax highlightling but not much more.\n",
    "\n",
    "<img src=\"https://www.quantrocket.com/assets/img/quickstart/jupyter-open-moonshot-template.gif\">\n"
   ]
  },
  {
   "cell_type": "markdown",
   "metadata": {},
   "source": [
    "Next, click the Code Editor button on Launcher to open Eclipse Theia in a new window. Then, in Theia, open the file explorer pane and click on the `moonshot_strategy.py` file you just created.\n",
    "\n",
    "<img src=\"https://www.quantrocket.com/assets/img/quickstart/jupyter-launch-theia.gif\">\n"
   ]
  },
  {
   "cell_type": "markdown",
   "metadata": {},
   "source": [
    "Try importing `quantrocket.master.list_calendar_statuses` to demonstrate Theia's code completion. \n",
    "\n",
    "<img src=\"https://www.quantrocket.com/assets/img/quickstart/theia-editor.gif\">\n",
    "\n",
    "Another option is to edit your code from VS Code running on your desktop. See the [usage guide](https://www.quantrocket.com/h/ides) for setup instructions."
   ]
  },
  {
   "cell_type": "markdown",
   "metadata": {},
   "source": [
    "***\n",
    "\n",
    "[Back to QuickStart](QuickStart.ipynb)"
   ]
  }
 ],
 "metadata": {
  "kernelspec": {
   "display_name": "Python 3",
   "language": "python",
   "name": "python3"
  },
  "language_info": {
   "codemirror_mode": {
    "name": "ipython",
    "version": 3
   },
   "file_extension": ".py",
   "mimetype": "text/x-python",
   "name": "python",
   "nbconvert_exporter": "python",
   "pygments_lexer": "ipython3",
   "version": "3.7.6"
  }
 },
 "nbformat": 4,
 "nbformat_minor": 4
}
