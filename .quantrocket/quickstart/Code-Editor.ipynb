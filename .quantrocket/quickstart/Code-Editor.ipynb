{
 "cells": [
  {
   "cell_type": "markdown",
   "metadata": {},
   "source": [
    "<a href=\"https://www.quantrocket.com\"><img alt=\"QuantRocket logo\" src=\"https://www.quantrocket.com/assets/img/notebook-header-logo.png\"></a>"
   ]
  },
  {
   "cell_type": "markdown",
   "metadata": {},
   "source": [
    "# Code Editor\n",
    "*Intelligent code editing with JupyterLab*"
   ]
  },
  {
   "cell_type": "markdown",
   "metadata": {},
   "source": [
    "Generally, the recommended workflow in QuantRocket is to spend most of your time in Jupyter notebooks, where you can develop your code interactively. Later, you can transfer the code as needed to `.py` files for running Zipline or Moonshot backtests or custom scripts. You can edit `.py` files in JupyterLab's code editor. Although you can't execute code interactively in the code editor the way you can in a notebook, the editor is equipped with the same auto-complete and inline documentation features that are available in notebooks. There is also a diagnostics panel that can highlight basic problems such as mistyped variable names, allowing you to detect and fix issues before running your code.  \n",
    "\n",
    "To see a basic demo of the code editor using the Pipeline API, click on [editor_demo.py](editor_demo.py)."
   ]
  },
  {
   "cell_type": "markdown",
   "metadata": {},
   "source": [
    "***\n",
    "\n",
    "## *Next Up*\n",
    "\n",
    "[Data Browser](Data-Browser.ipynb) - Browse databases in a graphical UI"
   ]
  }
 ],
 "metadata": {
  "kernelspec": {
   "display_name": "Python 3.11",
   "language": "python",
   "name": "python3"
  },
  "language_info": {
   "codemirror_mode": {
    "name": "ipython",
    "version": 3
   },
   "file_extension": ".py",
   "mimetype": "text/x-python",
   "name": "python",
   "nbconvert_exporter": "python",
   "pygments_lexer": "ipython3",
   "version": "3.11.0"
  }
 },
 "nbformat": 4,
 "nbformat_minor": 4
}
