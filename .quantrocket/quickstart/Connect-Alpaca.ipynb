{
 "cells": [
  {
   "cell_type": "markdown",
   "metadata": {},
   "source": [
    "<img alt=\"QuantRocket logo\" src=\"https://www.quantrocket.com/assets/img/notebook-header-logo.png\">"
   ]
  },
  {
   "cell_type": "markdown",
   "metadata": {},
   "source": [
    "# Connect to Alpaca"
   ]
  },
  {
   "cell_type": "markdown",
   "metadata": {},
   "source": [
    "To connect to Alpaca, enter your live or paper API key, indicate the trading mode (`live` or `paper`), and execute the function below (you'll be prompted for your secret key):\n",
    "\n",
    "> Your credentials are encrypted at rest and never leave your deployment."
   ]
  },
  {
   "cell_type": "code",
   "execution_count": 1,
   "metadata": {},
   "outputs": [
    {
     "name": "stdin",
     "output_type": "stream",
     "text": [
      "Enter Alpaca secret key:  ········································\n"
     ]
    },
    {
     "data": {
      "text/plain": [
       "{'status': 'successfully set Alpaca paper API key'}"
      ]
     },
     "execution_count": 1,
     "metadata": {},
     "output_type": "execute_result"
    }
   ],
   "source": [
    "from quantrocket.license import set_alpaca_key\n",
    "\n",
    "set_alpaca_key(api_key=\"XXXXXXXXXXXXXXXXX\", trading_mode=\"paper\")"
   ]
  },
  {
   "cell_type": "markdown",
   "metadata": {},
   "source": [
    "You can connect to your live and paper accounts by re-running the command with the respective credentials. "
   ]
  },
  {
   "cell_type": "markdown",
   "metadata": {},
   "source": [
    "## Test Alpaca Connection\n",
    "\n",
    "You can test the Alpaca connection by querying your account balance (we use the CLI because there is a bit less typing):"
   ]
  },
  {
   "cell_type": "code",
   "execution_count": 2,
   "metadata": {},
   "outputs": [
    {
     "name": "stdout",
     "output_type": "stream",
     "text": [
      "| Account      | Currency | NetLiquidation |         LastUpdated |\n",
      "| ------------ | -------- | -------------- | ------------------- |\n",
      "| XXXXXXXXXXXX | USD      |     100,336.25 | 2020-04-24 16:57:00 |\n"
     ]
    }
   ],
   "source": [
    "!quantrocket account balance --fields 'NetLiquidation' --latest | csvlook"
   ]
  },
  {
   "cell_type": "markdown",
   "metadata": {},
   "source": [
    "***\n",
    "\n",
    "[Back to QuickStart](QuickStart.ipynb)"
   ]
  }
 ],
 "metadata": {
  "kernelspec": {
   "display_name": "Python 3",
   "language": "python",
   "name": "python3"
  },
  "language_info": {
   "codemirror_mode": {
    "name": "ipython",
    "version": 3
   },
   "file_extension": ".py",
   "mimetype": "text/x-python",
   "name": "python",
   "nbconvert_exporter": "python",
   "pygments_lexer": "ipython3",
   "version": "3.7.6"
  }
 },
 "nbformat": 4,
 "nbformat_minor": 4
}
