{
 "cells": [
  {
   "cell_type": "markdown",
   "metadata": {},
   "source": [
    "<a href=\"https://www.quantrocket.com\"><img alt=\"QuantRocket logo\" src=\"https://www.quantrocket.com/assets/img/notebook-header-logo.png\"></a>"
   ]
  },
  {
   "cell_type": "markdown",
   "metadata": {},
   "source": [
    "# Welcome to QuantRocket! \n",
    "---\n",
    "## Step 1: Take a Tour of QuantRocket\n",
    "\n",
    "Start with this interactive tour of QuantRocket's API and JupyterLab environment.\n",
    "\n",
    "1. [Python API first steps](Python-Intro.ipynb) - Intro to QuantRocket's Python API\n",
    "2. [CLI first steps](CLI-Intro.ipynb) - Get to know the command line interface\n",
    "3. [Logging first steps](Logging-Intro.ipynb) - Learn how logging works\n",
    "4. [Clone sample code](Clone-Intro.ipynb) - Get some code into your deployment\n",
    "5. [Code Editor](Code-Editor.ipynb) - Intro to the JupyterLab Code Editor\n",
    "6. [Data Browser](Data-Browser.ipynb) - Browse security, price, and fundamental data in a graphical UI"
   ]
  },
  {
   "cell_type": "markdown",
   "metadata": {},
   "source": [
    "---\n",
    "\n",
    "## Step 2: Activate the software\n",
    "\n",
    "Enter your free license key so you can collect sample data and explore full tutorials.\n",
    "\n",
    "* [Software activation](Activate.ipynb) - Use the Python API to enter your license key"
   ]
  },
  {
   "cell_type": "markdown",
   "metadata": {},
   "source": [
    "---\n",
    "## Step 3: Explore full tutorials\n",
    "\n",
    "Visit the [Code library](https://www.quantrocket.com/code/) to find step-by-step interactive tutorials that you can clone into your own environment. The tutorials below use free sample data and can be completed without a paid QuantRocket license."
   ]
  },
  {
   "cell_type": "markdown",
   "metadata": {},
   "source": [
    "### Moonshot Intro\n",
    "\n",
    "Introductory tutorial for Moonshot, QuantRocket's vectorized, pandas-based backtester. Demonstrates data collection, universe selection, and backtesting of an end-of-day momentum strategy."
   ]
  },
  {
   "cell_type": "code",
   "execution_count": null,
   "metadata": {},
   "outputs": [],
   "source": [
    "from quantrocket.codeload import clone\n",
    "clone(\"moonshot-intro\")"
   ]
  },
  {
   "cell_type": "markdown",
   "metadata": {},
   "source": [
    "### Zipline Intro\n",
    "\n",
    "Introductory tutorial for Zipline, the popular backtester that originally powered Quantopian. Demonstrates data collection, interactive research, and backtesting of a momentum strategy for equities."
   ]
  },
  {
   "cell_type": "code",
   "execution_count": null,
   "metadata": {},
   "outputs": [],
   "source": [
    "from quantrocket.codeload import clone\n",
    "clone(\"zipline-intro\")"
   ]
  },
  {
   "cell_type": "markdown",
   "metadata": {},
   "source": [
    "After completing the Zipline tutorial, dive deeper into the Pipeline API with the Pipeline tutorial:"
   ]
  },
  {
   "cell_type": "code",
   "execution_count": null,
   "metadata": {},
   "outputs": [],
   "source": [
    "from quantrocket.codeload import clone\n",
    "clone(\"pipeline-tutorial\")"
   ]
  },
  {
   "cell_type": "markdown",
   "metadata": {},
   "source": [
    "### Quant Finance Lectures\n",
    "\n",
    "Learn quantitative finance with this comprehensive lecture series. Adapted for QuantRocket from the Quantopian Lecture Series. "
   ]
  },
  {
   "cell_type": "code",
   "execution_count": null,
   "metadata": {},
   "outputs": [],
   "source": [
    "from quantrocket.codeload import clone\n",
    "clone(\"quant-finance-lectures\")"
   ]
  },
  {
   "cell_type": "markdown",
   "metadata": {},
   "source": [
    "### Intraday FX Strategy \n",
    "\n",
    "This tutorial demonstrates an intraday FX strategy that exploits the tendency of currencies to depreciate during local business hours and appreciate during foreign business hours. Uses EUR.USD with hourly data from Interactive Brokers. Requires an Interactive Brokers account."
   ]
  },
  {
   "cell_type": "code",
   "execution_count": null,
   "metadata": {},
   "outputs": [],
   "source": [
    "from quantrocket.codeload import clone\n",
    "clone(\"fx-bizday\")"
   ]
  }
 ],
 "metadata": {
  "kernelspec": {
   "display_name": "Python 3.11",
   "language": "python",
   "name": "python3"
  },
  "language_info": {
   "codemirror_mode": {
    "name": "ipython",
    "version": 3
   },
   "file_extension": ".py",
   "mimetype": "text/x-python",
   "name": "python",
   "nbconvert_exporter": "python",
   "pygments_lexer": "ipython3",
   "version": "3.11.0"
  }
 },
 "nbformat": 4,
 "nbformat_minor": 4
}
