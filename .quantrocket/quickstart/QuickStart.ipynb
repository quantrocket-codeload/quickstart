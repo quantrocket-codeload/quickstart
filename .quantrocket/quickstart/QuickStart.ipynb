{
 "cells": [
  {
   "cell_type": "markdown",
   "metadata": {},
   "source": [
    "<img alt=\"QuantRocket logo\" src=\"https://www.quantrocket.com/assets/img/notebook-header-logo.png\">"
   ]
  },
  {
   "cell_type": "markdown",
   "metadata": {},
   "source": [
    "# Welcome to QuantRocket! \n",
    "\n",
    "### Start with this 5-minute interactive tour for new users:\n",
    "\n",
    "1. [Python API first steps](Python-Intro.ipynb) - Intro to QuantRocket's Python API\n",
    "2. [CLI first steps](CLI-Intro.ipynb) - Get to know the command line interface\n",
    "3. [Logging first steps](Logging-Intro.ipynb) - Learn how logging works\n",
    "4. [Clone sample code](Clone-Intro.ipynb) - Get some code into your deployment\n",
    "5. [Code Editor](Code-Editor.ipynb) - Intro to the Eclipse Theia Code Editor"
   ]
  },
  {
   "cell_type": "markdown",
   "metadata": {},
   "source": [
    "### Activate the software:\n",
    "\n",
    "* [Enter your license key](Activate.ipynb) - Use the Python API to enter your license key"
   ]
  },
  {
   "cell_type": "markdown",
   "metadata": {},
   "source": [
    "### Connect to your broker:\n",
    "\n",
    "* [Alpaca](Connect-Alpaca.ipynb)\n",
    "* [Interactive Brokers](Connect-IBKR.ipynb)"
   ]
  },
  {
   "cell_type": "markdown",
   "metadata": {},
   "source": [
    "### Go deeper with a full tutorial:\n",
    "\n",
    "Visit the [Code library](https://www.quantrocket.com/code/) to find step-by-step interactive tutorials that you can clone into your deployment. The tutorials below do not require a QuantRocket subscription."
   ]
  },
  {
   "cell_type": "markdown",
   "metadata": {},
   "source": [
    "#### Equities\n",
    "\n",
    "##### Equities Intro\n",
    "\n",
    "Introductory tutorial for equities demonstrating data collection, universe selection, and backtesting of an end-of-day momentum strategy using Moonshot. Free sample data available."
   ]
  },
  {
   "cell_type": "code",
   "execution_count": null,
   "metadata": {},
   "outputs": [],
   "source": [
    "from quantrocket.codeload import clone\n",
    "clone(\"equities-intro\")"
   ]
  },
  {
   "cell_type": "markdown",
   "metadata": {},
   "source": [
    "#### FX \n",
    "\n",
    "##### FX Business Day\n",
    "\n",
    "Intraday FX strategy that exploits the tendency of currencies to depreciate during local business hours and appreciate during foreign business hours. Uses EUR.USD with hourly data from Interactive Brokers. Requires an Interactive Brokers account."
   ]
  },
  {
   "cell_type": "code",
   "execution_count": null,
   "metadata": {},
   "outputs": [],
   "source": [
    "from quantrocket.codeload import clone\n",
    "clone(\"fx-bizday\")"
   ]
  }
 ],
 "metadata": {
  "kernelspec": {
   "display_name": "Python 3",
   "language": "python",
   "name": "python3"
  },
  "language_info": {
   "codemirror_mode": {
    "name": "ipython",
    "version": 3
   },
   "file_extension": ".py",
   "mimetype": "text/x-python",
   "name": "python",
   "nbconvert_exporter": "python",
   "pygments_lexer": "ipython3",
   "version": "3.7.6"
  }
 },
 "nbformat": 4,
 "nbformat_minor": 4
}
