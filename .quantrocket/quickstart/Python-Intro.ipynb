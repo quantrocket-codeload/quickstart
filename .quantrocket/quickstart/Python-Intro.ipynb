{
 "cells": [
  {
   "cell_type": "markdown",
   "metadata": {},
   "source": [
    "<img alt=\"QuantRocket logo\" src=\"https://www.quantrocket.com/assets/img/notebook-header-logo.png\">"
   ]
  },
  {
   "cell_type": "markdown",
   "metadata": {},
   "source": [
    "# Python API First Steps\n",
    "\n",
    "*Introduction to QuantRocket's Python API*\n",
    "\n",
    "QuantRocket provides both a Python API and a command line interface (CLI) for controlling your deployment. The CLI calls the Python interface, so the two provide similar functionality, but using one or the other may feel more intuitive depending on the particular task.\n",
    "\n",
    "***"
   ]
  },
  {
   "cell_type": "markdown",
   "metadata": {},
   "source": [
    "To demonstrate the use of QuantRocket's Python API, we'll look at a function that summarizes available exchanges. In addition to QuantRocket's online documentation, you can view the docstring for any function by placing a `?` after it. Execute the following cell by clicking SHIFT+ENTER (or clicking the Run icon on the menu above) to import the function and display its docstring:"
   ]
  },
  {
   "cell_type": "code",
   "execution_count": 1,
   "metadata": {},
   "outputs": [
    {
     "data": {
      "text/plain": [
       "\u001b[0;31mSignature:\u001b[0m \u001b[0mlist_exchanges\u001b[0m\u001b[0;34m(\u001b[0m\u001b[0mregions\u001b[0m\u001b[0;34m=\u001b[0m\u001b[0;32mNone\u001b[0m\u001b[0;34m,\u001b[0m \u001b[0msec_types\u001b[0m\u001b[0;34m=\u001b[0m\u001b[0;32mNone\u001b[0m\u001b[0;34m)\u001b[0m\u001b[0;34m\u001b[0m\u001b[0m\n",
       "\u001b[0;31mDocstring:\u001b[0m\n",
       "List exchanges by security type and country as found on the IB website.\n",
       "\n",
       "Parameters\n",
       "----------\n",
       "regions : list of str, optional\n",
       "    limit to these regions. Possible choices: north_america, europe, asia, global\n",
       "\n",
       "sec_types : list of str, optional\n",
       "    limit to these securitiy types. Possible choices: STK, ETF, FUT, CASH, IND\n",
       "\n",
       "Returns\n",
       "-------\n",
       "dict\n",
       "\u001b[0;31mFile:\u001b[0m      /opt/conda/lib/python3.6/site-packages/quantrocket/master.py\n",
       "\u001b[0;31mType:\u001b[0m      function\n"
      ]
     },
     "metadata": {},
     "output_type": "display_data"
    }
   ],
   "source": [
    "from quantrocket.master import list_exchanges\n",
    "list_exchanges?"
   ]
  },
  {
   "cell_type": "markdown",
   "metadata": {},
   "source": [
    "Now actually run the function:"
   ]
  },
  {
   "cell_type": "code",
   "execution_count": 2,
   "metadata": {},
   "outputs": [
    {
     "data": {
      "text/plain": [
       "{'FUT': {'Australia': ['SNFE'],\n",
       "  'Hong Kong': ['HKFE'],\n",
       "  'India': ['NSE'],\n",
       "  'Japan': ['OSE.JPN'],\n",
       "  'Singapore': ['SGX'],\n",
       "  'South Korea': ['KSE']},\n",
       " 'IND': {'Australia': ['SNFE', 'ASX'],\n",
       "  'Hong Kong': ['HKFE'],\n",
       "  'India': ['NSE'],\n",
       "  'Japan': ['OSE.JPN', 'TSE.JPN'],\n",
       "  'Singapore': ['SGX'],\n",
       "  'South Korea': ['KSE']},\n",
       " 'STK': {'Australia': ['ASX', 'CHIXAU'],\n",
       "  'Hong Kong': ['SEHK', 'SEHKNTL', 'SEHKSZSE'],\n",
       "  'India': ['NSE'],\n",
       "  'Japan': ['CHIXJ', 'JPNNEXT', 'TSEJ'],\n",
       "  'Singapore': ['SGX']},\n",
       " 'ETF': {'Australia': ['ASX'],\n",
       "  'Hong Kong': ['HKFE', 'SEHK'],\n",
       "  'India': ['NSE']}}"
      ]
     },
     "execution_count": 2,
     "metadata": {},
     "output_type": "execute_result"
    }
   ],
   "source": [
    "list_exchanges(regions=[\"asia\"])"
   ]
  },
  {
   "cell_type": "markdown",
   "metadata": {},
   "source": [
    "Jupyter notebooks provide autocomplete, which you can use to help you find functions whose names you don't remember:"
   ]
  },
  {
   "cell_type": "code",
   "execution_count": null,
   "metadata": {},
   "outputs": [],
   "source": [
    "# place cursor after dot and press tab\n",
    "from quantrocket."
   ]
  },
  {
   "cell_type": "code",
   "execution_count": null,
   "metadata": {},
   "outputs": [],
   "source": [
    "# place cursor after 'import' and press tab\n",
    "from quantrocket.master import "
   ]
  },
  {
   "cell_type": "markdown",
   "metadata": {},
   "source": [
    "***\n",
    "\n",
    "## *Next Up*\n",
    "\n",
    "[CLI first steps](CLI-Intro.ipynb) - Get to know the command line interface"
   ]
  }
 ],
 "metadata": {
  "kernelspec": {
   "display_name": "Python 3",
   "language": "python",
   "name": "python3"
  },
  "language_info": {
   "codemirror_mode": {
    "name": "ipython",
    "version": 3
   },
   "file_extension": ".py",
   "mimetype": "text/x-python",
   "name": "python",
   "nbconvert_exporter": "python",
   "pygments_lexer": "ipython3",
   "version": "3.6.6"
  }
 },
 "nbformat": 4,
 "nbformat_minor": 2
}
