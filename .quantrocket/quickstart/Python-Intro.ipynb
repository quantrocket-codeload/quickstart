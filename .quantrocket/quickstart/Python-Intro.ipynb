{
 "cells": [
  {
   "cell_type": "markdown",
   "metadata": {},
   "source": [
    "<a href=\"https://www.quantrocket.com\"><img alt=\"QuantRocket logo\" src=\"https://www.quantrocket.com/assets/img/notebook-header-logo.png\"></a>"
   ]
  },
  {
   "cell_type": "markdown",
   "metadata": {},
   "source": [
    "# Python API First Steps\n",
    "\n",
    "*Introduction to QuantRocket's Python API*\n",
    "\n",
    "QuantRocket provides both a Python API and a command line interface (CLI) for controlling your deployment. The CLI calls the Python interface, so the two provide similar functionality, but using one or the other may feel more intuitive depending on the particular task.\n",
    "\n",
    "***"
   ]
  },
  {
   "cell_type": "markdown",
   "metadata": {},
   "source": [
    "To demonstrate the use of QuantRocket's Python API, we'll look at a function that checks if exchanges are open. In addition to QuantRocket's online documentation, you can view documentation for any QuantRocket-maintained package within JupyterLab by clicking on the module or function name and pressing the Control key. Try it with each name in the import statement that follows:"
   ]
  },
  {
   "cell_type": "code",
   "execution_count": 1,
   "metadata": {},
   "outputs": [],
   "source": [
    "from quantrocket.master import list_calendar_statuses"
   ]
  },
  {
   "cell_type": "markdown",
   "metadata": {},
   "source": [
    "* If you click on `quantrocket` and press Control, you see the list of available modules within the `quantrocket` package.\n",
    "* If you click on `master` and press Control, you see the list of available functions within the `quantrocket.master` module.\n",
    "* If you click on `list_calendar_statuses` and press Control, you see the docstring for this particular function.\n",
    "\n",
    "Next, execute the above cell by clicking SHIFT+ENTER (or clicking the Run icon on the menu above) to import the function."
   ]
  },
  {
   "cell_type": "markdown",
   "metadata": {},
   "source": [
    "Now actually run the function to check if the New York Stock Exchange is open (the MIC, or market identifier code, for this exchange is `XNYS`):"
   ]
  },
  {
   "cell_type": "code",
   "execution_count": 2,
   "metadata": {},
   "outputs": [
    {
     "data": {
      "text/plain": [
       "{'XNYS': {'status': 'open',\n",
       "  'since': '2024-03-06T09:30:00',\n",
       "  'until': '2024-03-06T16:00:00',\n",
       "  'timezone': 'America/New_York'}}"
      ]
     },
     "execution_count": 2,
     "metadata": {},
     "output_type": "execute_result"
    }
   ],
   "source": [
    "list_calendar_statuses(exchanges=\"XNYS\")"
   ]
  },
  {
   "cell_type": "markdown",
   "metadata": {},
   "source": [
    "Jupyter notebooks provide autocomplete, which you can use to help you find functions whose names you don't remember. Try typing\n",
    "\n",
    "```python\n",
    "from quantrocket.master import list_calendar_statuses\n",
    "```\n",
    "in the following cell to see autocomplete in action."
   ]
  },
  {
   "cell_type": "code",
   "execution_count": null,
   "metadata": {},
   "outputs": [],
   "source": []
  },
  {
   "cell_type": "markdown",
   "metadata": {},
   "source": [
    "> Tip: After putting your laptop to sleep or leaving JupyterLab open in your browser for several days, reload the page to refresh autocomplete and hover documentation if they aren't working.  "
   ]
  },
  {
   "cell_type": "markdown",
   "metadata": {},
   "source": [
    "***\n",
    "\n",
    "## *Next Up*\n",
    "\n",
    "[CLI first steps](CLI-Intro.ipynb) - Get to know the command line interface"
   ]
  }
 ],
 "metadata": {
  "kernelspec": {
   "display_name": "Python 3.11",
   "language": "python",
   "name": "python3"
  },
  "language_info": {
   "codemirror_mode": {
    "name": "ipython",
    "version": 3
   },
   "file_extension": ".py",
   "mimetype": "text/x-python",
   "name": "python",
   "nbconvert_exporter": "python",
   "pygments_lexer": "ipython3",
   "version": "3.11.0"
  }
 },
 "nbformat": 4,
 "nbformat_minor": 4
}
