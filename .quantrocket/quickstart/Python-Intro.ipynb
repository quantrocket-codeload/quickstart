{
 "cells": [
  {
   "cell_type": "markdown",
   "metadata": {},
   "source": [
    "<a href=\"https://www.quantrocket.com\"><img alt=\"QuantRocket logo\" src=\"https://www.quantrocket.com/assets/img/notebook-header-logo.png\"></a>"
   ]
  },
  {
   "cell_type": "markdown",
   "metadata": {},
   "source": [
    "# Python API First Steps\n",
    "\n",
    "*Introduction to QuantRocket's Python API*\n",
    "\n",
    "QuantRocket provides both a Python API and a command line interface (CLI) for controlling your deployment. The CLI calls the Python interface, so the two provide similar functionality, but using one or the other may feel more intuitive depending on the particular task.\n",
    "\n",
    "***"
   ]
  },
  {
   "cell_type": "markdown",
   "metadata": {},
   "source": [
    "To demonstrate the use of QuantRocket's Python API, we'll look at a function that checks if exchanges are open. In addition to QuantRocket's online documentation, you can view the docstring for any function by placing a `?` after it. Execute the following cell by clicking SHIFT+ENTER (or clicking the Run icon on the menu above) to import the function and display its docstring:"
   ]
  },
  {
   "cell_type": "code",
   "execution_count": 1,
   "metadata": {},
   "outputs": [
    {
     "data": {
      "text/plain": [
       "\u001b[0;31mSignature:\u001b[0m\n",
       "\u001b[0mlist_calendar_statuses\u001b[0m\u001b[0;34m(\u001b[0m\u001b[0;34m\u001b[0m\n",
       "\u001b[0;34m\u001b[0m    \u001b[0mexchanges\u001b[0m\u001b[0;34m,\u001b[0m\u001b[0;34m\u001b[0m\n",
       "\u001b[0;34m\u001b[0m    \u001b[0msec_type\u001b[0m\u001b[0;34m=\u001b[0m\u001b[0;32mNone\u001b[0m\u001b[0;34m,\u001b[0m\u001b[0;34m\u001b[0m\n",
       "\u001b[0;34m\u001b[0m    \u001b[0min_\u001b[0m\u001b[0;34m=\u001b[0m\u001b[0;32mNone\u001b[0m\u001b[0;34m,\u001b[0m\u001b[0;34m\u001b[0m\n",
       "\u001b[0;34m\u001b[0m    \u001b[0mago\u001b[0m\u001b[0;34m=\u001b[0m\u001b[0;32mNone\u001b[0m\u001b[0;34m,\u001b[0m\u001b[0;34m\u001b[0m\n",
       "\u001b[0;34m\u001b[0m    \u001b[0moutside_rth\u001b[0m\u001b[0;34m=\u001b[0m\u001b[0;32mFalse\u001b[0m\u001b[0;34m,\u001b[0m\u001b[0;34m\u001b[0m\n",
       "\u001b[0;34m\u001b[0m\u001b[0;34m)\u001b[0m\u001b[0;34m\u001b[0m\u001b[0;34m\u001b[0m\u001b[0m\n",
       "\u001b[0;31mDocstring:\u001b[0m\n",
       "Check whether exchanges are open or closed.\n",
       "\n",
       "Parameters\n",
       "----------\n",
       "exchanges : list of str, required\n",
       "    the exchange(s) to check\n",
       "\n",
       "sec_type : str, optional\n",
       "    the security type, if needed to disambiguate for exchanges that\n",
       "    trade multiple security types. Possible choices: STK, FUT, CASH, OPT\n",
       "\n",
       "in_ : str, optional\n",
       "    check whether exchanges will be open or closed at this point in the\n",
       "    future (use Pandas timedelta string, e.g. 2h or 30min or 1d)\n",
       "\n",
       "ago : str, optional\n",
       "    check whether exchanges were open or closed this long ago\n",
       "    (use Pandas timedelta string, e.g. 2h or 30min or 1d)\n",
       "\n",
       "outside_rth : bool\n",
       "    check extended hours calendar (default is to check regular\n",
       "    trading hours calendar)\n",
       "\n",
       "Returns\n",
       "-------\n",
       "dict\n",
       "    exchange calendar status\n",
       "\u001b[0;31mFile:\u001b[0m      /opt/conda/lib/python3.7/site-packages/quantrocket/master.py\n",
       "\u001b[0;31mType:\u001b[0m      function\n"
      ]
     },
     "metadata": {},
     "output_type": "display_data"
    }
   ],
   "source": [
    "from quantrocket.master import list_calendar_statuses\n",
    "list_calendar_statuses?"
   ]
  },
  {
   "cell_type": "markdown",
   "metadata": {},
   "source": [
    "Now actually run the function to check if the New York Stock Exchange is open (the MIC, or market identifier code, for this exchange is `XNYS`):"
   ]
  },
  {
   "cell_type": "code",
   "execution_count": 2,
   "metadata": {},
   "outputs": [
    {
     "data": {
      "text/plain": [
       "{'XNYS': {'status': 'closed',\n",
       "  'since': '2020-04-23T16:00:00',\n",
       "  'until': '2020-04-24T09:30:00',\n",
       "  'timezone': 'America/New_York'}}"
      ]
     },
     "execution_count": 2,
     "metadata": {},
     "output_type": "execute_result"
    }
   ],
   "source": [
    "list_calendar_statuses(exchanges=\"XNYS\")"
   ]
  },
  {
   "cell_type": "markdown",
   "metadata": {},
   "source": [
    "Jupyter notebooks provide autocomplete, which you can use to help you find functions whose names you don't remember:"
   ]
  },
  {
   "cell_type": "code",
   "execution_count": null,
   "metadata": {},
   "outputs": [],
   "source": [
    "# place cursor after dot and press tab\n",
    "from quantrocket."
   ]
  },
  {
   "cell_type": "code",
   "execution_count": null,
   "metadata": {},
   "outputs": [],
   "source": [
    "# place cursor after 'import' and press tab\n",
    "from quantrocket.master import "
   ]
  },
  {
   "cell_type": "markdown",
   "metadata": {},
   "source": [
    "***\n",
    "\n",
    "## *Next Up*\n",
    "\n",
    "[CLI first steps](CLI-Intro.ipynb) - Get to know the command line interface"
   ]
  }
 ],
 "metadata": {
  "kernelspec": {
   "display_name": "Python 3",
   "language": "python",
   "name": "python3"
  },
  "language_info": {
   "codemirror_mode": {
    "name": "ipython",
    "version": 3
   },
   "file_extension": ".py",
   "mimetype": "text/x-python",
   "name": "python",
   "nbconvert_exporter": "python",
   "pygments_lexer": "ipython3",
   "version": "3.7.6"
  }
 },
 "nbformat": 4,
 "nbformat_minor": 4
}
